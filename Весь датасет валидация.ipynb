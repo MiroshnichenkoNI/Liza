{
 "cells": [
  {
   "cell_type": "code",
   "execution_count": 13,
   "id": "8e8ac7b8",
   "metadata": {},
   "outputs": [
    {
     "name": "stdout",
     "output_type": "stream",
     "text": [
      "=== Первые 10 строк из конечной версии файла ===\n",
      "                                    pID Gender  Age  Value    City TestName  \\\n",
      "0  4A00BBCE-00D2-432D-B3BE-0002CC6D4BF4      М   48    2.8  Москва     THol   \n",
      "1  4A00BBCE-00D2-432D-B3BE-0002CC6D4BF4      М   48    1.6  Москва      LDL   \n",
      "2  4A00BBCE-00D2-432D-B3BE-0002CC6D4BF4      М   48   30.7  Москва      ALT   \n",
      "3  4A00BBCE-00D2-432D-B3BE-0002CC6D4BF4      М   48   12.0  Москва      LPA   \n",
      "4  4A00BBCE-00D2-432D-B3BE-0002CC6D4BF4      М   48   44.4  Москва      ALT   \n",
      "5  4A00BBCE-00D2-432D-B3BE-0002CC6D4BF4      М   48   24.5  Москва      AST   \n",
      "6  4A00BBCE-00D2-432D-B3BE-0002CC6D4BF4      М   48   30.5  Москва      AST   \n",
      "7  4A00BBCE-00D2-432D-B3BE-0002CC6D4BF4      М   48   10.8  Москва     TBil   \n",
      "8  4A00BBCE-00D2-432D-B3BE-0002CC6D4BF4      М   48    9.0  Москва      LPA   \n",
      "9  4A00BBCE-00D2-432D-B3BE-0002CC6D4BF4      М   48    2.1  Москва      LDL   \n",
      "\n",
      "  TestUnits        Date  \n",
      "0      mM/L  2023-04-27  \n",
      "1      mM/L  2023-04-27  \n",
      "2       U/L  2023-03-01  \n",
      "3     mg/dL  2023-04-27  \n",
      "4       U/L  2023-04-27  \n",
      "5       U/L  2023-03-01  \n",
      "6       U/L  2023-04-27  \n",
      "7      uM/L  2023-03-01  \n",
      "8     mg/dL  2023-03-01  \n",
      "9      mM/L  2023-03-01  \n"
     ]
    }
   ],
   "source": [
    "import numpy as np\n",
    "import pandas as pd\n",
    "\n",
    "train_file = \"C:/Users/mirni/Documents/Проект Лизы/set1_new.tsv\"\n",
    "test_file = \"C:/Users/mirni/Documents/Проект Лизы/set2.tsv\"\n",
    "\n",
    "train_df = pd.read_csv(train_file, sep=\"\\t\")\n",
    "test_df = pd.read_csv(test_file, sep=\"\\t\")\n",
    "print(\"=== Первые 10 строк из конечной версии файла ===\")\n",
    "print(df1.head(10))"
   ]
  },
  {
   "cell_type": "code",
   "execution_count": 14,
   "id": "1d02140d",
   "metadata": {},
   "outputs": [
    {
     "data": {
      "text/plain": [
       "pID          80014\n",
       "Gender           2\n",
       "Age            103\n",
       "Value         2984\n",
       "City            29\n",
       "TestName         9\n",
       "TestUnits        4\n",
       "Date          1241\n",
       "dtype: int64"
      ]
     },
     "execution_count": 14,
     "metadata": {},
     "output_type": "execute_result"
    }
   ],
   "source": [
    "train_df.nunique()"
   ]
  },
  {
   "cell_type": "markdown",
   "id": "dedfd8b5-00dc-4f2b-81bd-90f5fd4d5770",
   "metadata": {},
   "source": [
    "Наша задача развернуть столбец TestName и выделить результаты каждого теста как отдельную фичу. Но вопрос: что будет являться индексом строки в таком случае? Ведь даже в самых первых строках нашей таблицы виден пациент, который сделал два одинаковых анализа. НО! они были сделаны в разные дни. Поэтому есть смысл делать индексом строки ID пациента и дату анализа."
   ]
  },
  {
   "cell_type": "code",
   "execution_count": 17,
   "id": "4d3d1551-27b6-4a1a-9296-f0e22959ee09",
   "metadata": {},
   "outputs": [
    {
     "name": "stderr",
     "output_type": "stream",
     "text": [
      "C:\\Users\\mirni\\AppData\\Local\\Temp\\ipykernel_17404\\2084886764.py:4: UserWarning: Parsing dates in %Y-%m-%d format when dayfirst=True was specified. Pass `dayfirst=False` or specify a format to silence this warning.\n",
      "  train_df[\"ResDate\"] = pd.to_datetime(train_df[\"Date\"], dayfirst=True).dt.date\n"
     ]
    },
    {
     "name": "stdout",
     "output_type": "stream",
     "text": [
      "                                    pID        Date Gender  Age         City  \\\n",
      "0  00004638-FF3C-4138-B20F-CCCFB20DF046  2025-04-24      Ж   49       Москва   \n",
      "1  00008699-11A6-4A43-A073-D7A29B7D9ADA  2023-06-21      Ж   32  Красногорск   \n",
      "2  00008699-11A6-4A43-A073-D7A29B7D9ADA  2024-01-26      Ж   33       Москва   \n",
      "3  00008699-11A6-4A43-A073-D7A29B7D9ADA  2024-08-18      Ж   33       Москва   \n",
      "4  0000E88C-1F93-46AE-98D0-19DE1B5EAA83  2025-05-25      Ж   41  Красногорск   \n",
      "5  00020D84-9344-45C2-89CE-569603A01FC6  2024-10-17      Ж   50       Москва   \n",
      "6  0003D22A-0A53-4402-9A88-7407A0327796  2023-07-13      Ж   41       Москва   \n",
      "7  0003F621-73A7-40D3-801B-C9D14ACF7FEB  2024-05-11      Ж   52        Пермь   \n",
      "8  00048479-A156-4CCA-B9DF-6B7BFD1598CC  2023-11-03      Ж   66  Красногорск   \n",
      "9  000562FD-AB7B-43E0-8161-10FBD25C6CEC  2022-07-29      Ж   34  Красногорск   \n",
      "\n",
      "    ALT   AST  DBil   HDL  LDL   LPA  TBil  THol  Trig  \n",
      "0  38.5  23.0   NaN  1.80  4.1   9.0  11.8   6.8  1.97  \n",
      "1   9.2  15.1   NaN  1.98  2.6   8.0   NaN   4.8  0.72  \n",
      "2  12.3  18.5   NaN  2.16  3.1  12.0   NaN   5.9  0.45  \n",
      "3  12.6  15.7   2.2  2.22  2.8  10.0  10.2   5.4  0.63  \n",
      "4   NaN   NaN   1.3  1.41  4.5  18.0   6.2   6.2  1.07  \n",
      "5   NaN   NaN   NaN  2.03  2.4  10.0   NaN   4.7  0.64  \n",
      "6   NaN   NaN   NaN  1.76  3.4  95.0   NaN   5.9  0.97  \n",
      "7   NaN   NaN   NaN  1.33  4.4  39.0   NaN   6.1  1.12  \n",
      "8   NaN   NaN   NaN  1.47  3.6  12.0   NaN   5.8  0.85  \n",
      "9  13.7  18.3   NaN  1.97  3.0   3.0   NaN   5.4  2.52  \n"
     ]
    }
   ],
   "source": [
    "import pandas as pd\n",
    "\n",
    "# приводим даты к нормальному виду\n",
    "train_df[\"ResDate\"] = pd.to_datetime(train_df[\"Date\"], dayfirst=True).dt.date\n",
    "\n",
    "# базовые фичи на (PatientsGuid, ResDate)\n",
    "base = (train_df\n",
    "        .sort_values(\"Date\")\n",
    "        .groupby([\"pID\", \"Date\"], as_index=True)\n",
    "        .agg({\n",
    "            \"Gender\": \"first\",\n",
    "            \"Age\": \"first\",\n",
    "            \"City\": \"first\"\n",
    "        }))\n",
    "\n",
    "# “широкая” таблица: по одной колонке на TestName, значение = Value\n",
    "vals_wide = (train_df.pivot_table(index=[\"pID\", \"Date\"],\n",
    "                            columns=\"TestName\",\n",
    "                            values=\"Value\",\n",
    "                            aggfunc=\"first\"))\n",
    "\n",
    "# объединяем\n",
    "wide = (base\n",
    "        .join(vals_wide)\n",
    "        .reset_index())\n",
    "\n",
    "print(wide.head(10))\n"
   ]
  },
  {
   "cell_type": "code",
   "execution_count": 21,
   "id": "705e5b5f-1e67-4b94-8963-5870c044ef3b",
   "metadata": {},
   "outputs": [
    {
     "data": {
      "text/html": [
       "<div>\n",
       "<style scoped>\n",
       "    .dataframe tbody tr th:only-of-type {\n",
       "        vertical-align: middle;\n",
       "    }\n",
       "\n",
       "    .dataframe tbody tr th {\n",
       "        vertical-align: top;\n",
       "    }\n",
       "\n",
       "    .dataframe thead th {\n",
       "        text-align: right;\n",
       "    }\n",
       "</style>\n",
       "<table border=\"1\" class=\"dataframe\">\n",
       "  <thead>\n",
       "    <tr style=\"text-align: right;\">\n",
       "      <th></th>\n",
       "      <th>Age</th>\n",
       "      <th>ALT</th>\n",
       "      <th>AST</th>\n",
       "      <th>DBil</th>\n",
       "      <th>HDL</th>\n",
       "      <th>LDL</th>\n",
       "      <th>LPA</th>\n",
       "      <th>TBil</th>\n",
       "      <th>THol</th>\n",
       "      <th>Trig</th>\n",
       "    </tr>\n",
       "  </thead>\n",
       "  <tbody>\n",
       "    <tr>\n",
       "      <th>count</th>\n",
       "      <td>97547.000000</td>\n",
       "      <td>55671.000000</td>\n",
       "      <td>55554.000000</td>\n",
       "      <td>14737.000000</td>\n",
       "      <td>97547.000000</td>\n",
       "      <td>97547.000000</td>\n",
       "      <td>97547.000000</td>\n",
       "      <td>35940.000000</td>\n",
       "      <td>93133.000000</td>\n",
       "      <td>97547.000000</td>\n",
       "    </tr>\n",
       "    <tr>\n",
       "      <th>mean</th>\n",
       "      <td>47.359837</td>\n",
       "      <td>26.664464</td>\n",
       "      <td>25.475815</td>\n",
       "      <td>2.702321</td>\n",
       "      <td>1.498923</td>\n",
       "      <td>3.409545</td>\n",
       "      <td>29.451809</td>\n",
       "      <td>13.389048</td>\n",
       "      <td>5.481470</td>\n",
       "      <td>1.338164</td>\n",
       "    </tr>\n",
       "    <tr>\n",
       "      <th>std</th>\n",
       "      <td>15.031503</td>\n",
       "      <td>37.448461</td>\n",
       "      <td>32.986322</td>\n",
       "      <td>4.981902</td>\n",
       "      <td>0.390692</td>\n",
       "      <td>1.039025</td>\n",
       "      <td>39.284392</td>\n",
       "      <td>8.975412</td>\n",
       "      <td>1.391696</td>\n",
       "      <td>0.964907</td>\n",
       "    </tr>\n",
       "    <tr>\n",
       "      <th>min</th>\n",
       "      <td>0.000000</td>\n",
       "      <td>0.900000</td>\n",
       "      <td>4.000000</td>\n",
       "      <td>0.100000</td>\n",
       "      <td>0.070000</td>\n",
       "      <td>0.100000</td>\n",
       "      <td>0.000000</td>\n",
       "      <td>2.200000</td>\n",
       "      <td>1.100000</td>\n",
       "      <td>0.140000</td>\n",
       "    </tr>\n",
       "    <tr>\n",
       "      <th>25%</th>\n",
       "      <td>37.000000</td>\n",
       "      <td>14.500000</td>\n",
       "      <td>18.100000</td>\n",
       "      <td>1.600000</td>\n",
       "      <td>1.220000</td>\n",
       "      <td>2.700000</td>\n",
       "      <td>6.000000</td>\n",
       "      <td>9.000000</td>\n",
       "      <td>4.500000</td>\n",
       "      <td>0.790000</td>\n",
       "    </tr>\n",
       "    <tr>\n",
       "      <th>50%</th>\n",
       "      <td>46.000000</td>\n",
       "      <td>20.300000</td>\n",
       "      <td>21.800000</td>\n",
       "      <td>2.100000</td>\n",
       "      <td>1.450000</td>\n",
       "      <td>3.400000</td>\n",
       "      <td>12.000000</td>\n",
       "      <td>11.600000</td>\n",
       "      <td>5.400000</td>\n",
       "      <td>1.100000</td>\n",
       "    </tr>\n",
       "    <tr>\n",
       "      <th>75%</th>\n",
       "      <td>57.000000</td>\n",
       "      <td>30.200000</td>\n",
       "      <td>27.000000</td>\n",
       "      <td>2.900000</td>\n",
       "      <td>1.730000</td>\n",
       "      <td>4.100000</td>\n",
       "      <td>36.000000</td>\n",
       "      <td>15.400000</td>\n",
       "      <td>6.400000</td>\n",
       "      <td>1.590000</td>\n",
       "    </tr>\n",
       "    <tr>\n",
       "      <th>max</th>\n",
       "      <td>105.000000</td>\n",
       "      <td>3343.400000</td>\n",
       "      <td>3391.200000</td>\n",
       "      <td>267.700000</td>\n",
       "      <td>10.260000</td>\n",
       "      <td>17.300000</td>\n",
       "      <td>398.000000</td>\n",
       "      <td>563.100000</td>\n",
       "      <td>30.200000</td>\n",
       "      <td>31.950000</td>\n",
       "    </tr>\n",
       "  </tbody>\n",
       "</table>\n",
       "</div>"
      ],
      "text/plain": [
       "                Age           ALT           AST          DBil           HDL  \\\n",
       "count  97547.000000  55671.000000  55554.000000  14737.000000  97547.000000   \n",
       "mean      47.359837     26.664464     25.475815      2.702321      1.498923   \n",
       "std       15.031503     37.448461     32.986322      4.981902      0.390692   \n",
       "min        0.000000      0.900000      4.000000      0.100000      0.070000   \n",
       "25%       37.000000     14.500000     18.100000      1.600000      1.220000   \n",
       "50%       46.000000     20.300000     21.800000      2.100000      1.450000   \n",
       "75%       57.000000     30.200000     27.000000      2.900000      1.730000   \n",
       "max      105.000000   3343.400000   3391.200000    267.700000     10.260000   \n",
       "\n",
       "                LDL           LPA          TBil          THol          Trig  \n",
       "count  97547.000000  97547.000000  35940.000000  93133.000000  97547.000000  \n",
       "mean       3.409545     29.451809     13.389048      5.481470      1.338164  \n",
       "std        1.039025     39.284392      8.975412      1.391696      0.964907  \n",
       "min        0.100000      0.000000      2.200000      1.100000      0.140000  \n",
       "25%        2.700000      6.000000      9.000000      4.500000      0.790000  \n",
       "50%        3.400000     12.000000     11.600000      5.400000      1.100000  \n",
       "75%        4.100000     36.000000     15.400000      6.400000      1.590000  \n",
       "max       17.300000    398.000000    563.100000     30.200000     31.950000  "
      ]
     },
     "execution_count": 21,
     "metadata": {},
     "output_type": "execute_result"
    }
   ],
   "source": [
    "wide.describe()"
   ]
  },
  {
   "cell_type": "code",
   "execution_count": 24,
   "id": "147a87d9-a38a-4fbd-b48f-f7b8c4ed9792",
   "metadata": {},
   "outputs": [
    {
     "name": "stdout",
     "output_type": "stream",
     "text": [
      "Количество Nan у LPA 0\n"
     ]
    }
   ],
   "source": [
    "print(f'Количество Nan у LPA {wide[\"LPA\"].isna().sum()}')"
   ]
  },
  {
   "cell_type": "markdown",
   "id": "d8f8c67b-a66e-4821-8829-ee37d9babea6",
   "metadata": {},
   "source": [
    "Перед обучением остались следующие этапы:\n",
    "1. Разделение выборки на тренировочную, валидационную и тестовую: сделаем 70, 10, 20. А также сразу учтем, что один и тот же пациент в разные выборки попасть не должен\n",
    "2. Дропнуть категориальные неважные фичи для тех моделей, где это требуется: город, дата анализа(но возможно потом придется сделать сезон как фичу, так как время года может влиять теоретически)\n",
    "3. Заполнение пропусков у тех людей, у которых не сданы какие-то анализы в определенный день\n",
    "4. One-hot-encoding пола"
   ]
  },
  {
   "cell_type": "code",
   "execution_count": 30,
   "id": "6aa6612a-6465-4501-881a-ce24def1f898",
   "metadata": {},
   "outputs": [],
   "source": [
    "from sklearn.model_selection import GroupShuffleSplit\n",
    "from sklearn.compose import ColumnTransformer\n",
    "from sklearn.metrics import mean_squared_error\n",
    "\n",
    "\n",
    "# ========= 1) ХЕЛПЕР: разбиение по пациентам =========\n",
    "def group_train_val_test_split(df, group_col, target_col,\n",
    "                               train_size=0.70, val_size=0.10, test_size=0.20,\n",
    "                               random_state=42):\n",
    "    assert abs(train_size + val_size + test_size - 1.0) < 1e-9, \"Доли должны суммироваться в 1\"\n",
    "    groups = df[group_col]\n",
    "\n",
    "    # 1) Train vs Temp\n",
    "    gss1 = GroupShuffleSplit(n_splits=1, train_size=train_size, random_state=random_state)\n",
    "    train_idx, temp_idx = next(gss1.split(df, groups=groups))\n",
    "    df_train, df_temp = df.iloc[train_idx], df.iloc[temp_idx]\n",
    "\n",
    "    # 2) Temp -> Val vs Test\n",
    "    gss2 = GroupShuffleSplit(n_splits=1,\n",
    "                             test_size=test_size/(val_size+test_size),\n",
    "                             random_state=random_state)\n",
    "    val_idx_rel, test_idx_rel = next(gss2.split(df_temp, groups=df_temp[group_col]))\n",
    "    df_val, df_test = df_temp.iloc[val_idx_rel], df_temp.iloc[test_idx_rel]\n",
    "\n",
    "    # 3) Разделяем на X/y\n",
    "    X_train, y_train = df_train.drop(columns=[target_col]), df_train[target_col]\n",
    "    X_val,   y_val   = df_val.drop(columns=[target_col]),   df_val[target_col]\n",
    "    X_test,  y_test  = df_test.drop(columns=[target_col]),  df_test[target_col]\n",
    "\n",
    "    # 4) Проверка непересекаемости групп\n",
    "    g_train = set(df_train[group_col].unique())\n",
    "    g_val   = set(df_val[group_col].unique())\n",
    "    g_test  = set(df_test[group_col].unique())\n",
    "\n",
    "    assert g_train.isdisjoint(g_val),  \"Train и Val пересекаются по patient_id!\"\n",
    "    assert g_train.isdisjoint(g_test), \"Train и Test пересекаются по patient_id!\"\n",
    "    assert g_val.isdisjoint(g_test),   \"Val и Test пересекаются по patient_id!\"\n",
    "\n",
    "    return X_train, X_val, X_test, y_train, y_val, y_test\n",
    "\n",
    "\n",
    "\n"
   ]
  },
  {
   "cell_type": "code",
   "execution_count": 31,
   "id": "a6d05732-fbff-4342-af29-b23bc9cac30d",
   "metadata": {},
   "outputs": [
    {
     "data": {
      "text/html": [
       "<div>\n",
       "<style scoped>\n",
       "    .dataframe tbody tr th:only-of-type {\n",
       "        vertical-align: middle;\n",
       "    }\n",
       "\n",
       "    .dataframe tbody tr th {\n",
       "        vertical-align: top;\n",
       "    }\n",
       "\n",
       "    .dataframe thead th {\n",
       "        text-align: right;\n",
       "    }\n",
       "</style>\n",
       "<table border=\"1\" class=\"dataframe\">\n",
       "  <thead>\n",
       "    <tr style=\"text-align: right;\">\n",
       "      <th></th>\n",
       "      <th>pID</th>\n",
       "      <th>Gender</th>\n",
       "      <th>Age</th>\n",
       "      <th>ALT</th>\n",
       "      <th>AST</th>\n",
       "      <th>DBil</th>\n",
       "      <th>HDL</th>\n",
       "      <th>LDL</th>\n",
       "      <th>LPA</th>\n",
       "      <th>TBil</th>\n",
       "      <th>THol</th>\n",
       "      <th>Trig</th>\n",
       "    </tr>\n",
       "  </thead>\n",
       "  <tbody>\n",
       "    <tr>\n",
       "      <th>0</th>\n",
       "      <td>00004638-FF3C-4138-B20F-CCCFB20DF046</td>\n",
       "      <td>1.0</td>\n",
       "      <td>49</td>\n",
       "      <td>38.5</td>\n",
       "      <td>23.0</td>\n",
       "      <td>NaN</td>\n",
       "      <td>1.80</td>\n",
       "      <td>4.1</td>\n",
       "      <td>9.0</td>\n",
       "      <td>11.8</td>\n",
       "      <td>6.8</td>\n",
       "      <td>1.97</td>\n",
       "    </tr>\n",
       "    <tr>\n",
       "      <th>1</th>\n",
       "      <td>00008699-11A6-4A43-A073-D7A29B7D9ADA</td>\n",
       "      <td>1.0</td>\n",
       "      <td>32</td>\n",
       "      <td>9.2</td>\n",
       "      <td>15.1</td>\n",
       "      <td>NaN</td>\n",
       "      <td>1.98</td>\n",
       "      <td>2.6</td>\n",
       "      <td>8.0</td>\n",
       "      <td>NaN</td>\n",
       "      <td>4.8</td>\n",
       "      <td>0.72</td>\n",
       "    </tr>\n",
       "    <tr>\n",
       "      <th>2</th>\n",
       "      <td>00008699-11A6-4A43-A073-D7A29B7D9ADA</td>\n",
       "      <td>1.0</td>\n",
       "      <td>33</td>\n",
       "      <td>12.3</td>\n",
       "      <td>18.5</td>\n",
       "      <td>NaN</td>\n",
       "      <td>2.16</td>\n",
       "      <td>3.1</td>\n",
       "      <td>12.0</td>\n",
       "      <td>NaN</td>\n",
       "      <td>5.9</td>\n",
       "      <td>0.45</td>\n",
       "    </tr>\n",
       "    <tr>\n",
       "      <th>3</th>\n",
       "      <td>00008699-11A6-4A43-A073-D7A29B7D9ADA</td>\n",
       "      <td>1.0</td>\n",
       "      <td>33</td>\n",
       "      <td>12.6</td>\n",
       "      <td>15.7</td>\n",
       "      <td>2.2</td>\n",
       "      <td>2.22</td>\n",
       "      <td>2.8</td>\n",
       "      <td>10.0</td>\n",
       "      <td>10.2</td>\n",
       "      <td>5.4</td>\n",
       "      <td>0.63</td>\n",
       "    </tr>\n",
       "    <tr>\n",
       "      <th>4</th>\n",
       "      <td>0000E88C-1F93-46AE-98D0-19DE1B5EAA83</td>\n",
       "      <td>1.0</td>\n",
       "      <td>41</td>\n",
       "      <td>NaN</td>\n",
       "      <td>NaN</td>\n",
       "      <td>1.3</td>\n",
       "      <td>1.41</td>\n",
       "      <td>4.5</td>\n",
       "      <td>18.0</td>\n",
       "      <td>6.2</td>\n",
       "      <td>6.2</td>\n",
       "      <td>1.07</td>\n",
       "    </tr>\n",
       "  </tbody>\n",
       "</table>\n",
       "</div>"
      ],
      "text/plain": [
       "                                    pID  Gender  Age   ALT   AST  DBil   HDL  \\\n",
       "0  00004638-FF3C-4138-B20F-CCCFB20DF046     1.0   49  38.5  23.0   NaN  1.80   \n",
       "1  00008699-11A6-4A43-A073-D7A29B7D9ADA     1.0   32   9.2  15.1   NaN  1.98   \n",
       "2  00008699-11A6-4A43-A073-D7A29B7D9ADA     1.0   33  12.3  18.5   NaN  2.16   \n",
       "3  00008699-11A6-4A43-A073-D7A29B7D9ADA     1.0   33  12.6  15.7   2.2  2.22   \n",
       "4  0000E88C-1F93-46AE-98D0-19DE1B5EAA83     1.0   41   NaN   NaN   1.3  1.41   \n",
       "\n",
       "   LDL   LPA  TBil  THol  Trig  \n",
       "0  4.1   9.0  11.8   6.8  1.97  \n",
       "1  2.6   8.0   NaN   4.8  0.72  \n",
       "2  3.1  12.0   NaN   5.9  0.45  \n",
       "3  2.8  10.0  10.2   5.4  0.63  \n",
       "4  4.5  18.0   6.2   6.2  1.07  "
      ]
     },
     "execution_count": 31,
     "metadata": {},
     "output_type": "execute_result"
    }
   ],
   "source": [
    "# ========= 2) ПОДГОТОВКА ФИЧЕЙ =========\n",
    "df = wide.copy()                   # wide — твоя широкая таблица\n",
    "target = \"LPA\"\n",
    "\n",
    "# пол: M -> 0, Ж -> 1\n",
    "df[\"Gender\"] = df[\"Gender\"].map({\"M\": 0, \"Ж\": 1})\n",
    "\n",
    "drop_cols = [\"Date\", \"City\"]\n",
    "df = df.drop(columns=drop_cols)\n",
    "df.head()"
   ]
  },
  {
   "cell_type": "code",
   "execution_count": 32,
   "id": "252c3c43-35c1-4853-aec4-175ab85152a2",
   "metadata": {},
   "outputs": [],
   "source": [
    "# делим на Train / Val / Test\n",
    "\n",
    "X_train, X_val, X_test, y_train, y_val, y_test = group_train_val_test_split(\n",
    "    df, group_col=\"pID\", target_col=target,\n",
    "    train_size=0.70, val_size=0.10, test_size=0.20, random_state=42\n",
    ")\n",
    "\n",
    "# после сплита удаляем PatientsGuid из признаков\n",
    "for X in (X_train, X_val, X_test):\n",
    "    if \"pID\" in X.columns:\n",
    "        X.drop(columns=[\"pID\"], inplace=True)\n",
    "\n",
    "def rmse(y_true, y_pred):\n",
    "  return np.sqrt(mean_squared_error(y_true, y_pred))"
   ]
  },
  {
   "cell_type": "code",
   "execution_count": 42,
   "id": "814a7e41-e2ee-415e-a430-e0c908c49703",
   "metadata": {},
   "outputs": [],
   "source": [
    "# 1) PREP: один раз считаем импутацию/скейл\n",
    "from sklearn.pipeline import make_pipeline\n",
    "from sklearn.impute import KNNImputer, SimpleImputer\n",
    "from sklearn.preprocessing import StandardScaler\n",
    "\n",
    "# Если KNNImputer медленный, можно быстро переключиться на SimpleImputer(strategy=\"median\")\n",
    "imp_only   = KNNImputer(n_neighbors=3, weights=\"uniform\")\n",
    "imp_scale  = make_pipeline(KNNImputer(n_neighbors=3, weights=\"uniform\"), StandardScaler())\n",
    "\n",
    "Xtr_imp   = imp_only.fit_transform(X_train)     # для деревьев/бустингов\n",
    "Xval_imp  = imp_only.transform(X_val)\n",
    "Xtr_sc_quant   = imp_scale.fit_transform(X_train)    # для линейных/MLP/KNN\n",
    "Xval_sc   = imp_scale.transform(X_val)\n",
    "\n",
    "# 2) Бейзлайн\n",
    "baseline_val = np.full_like(y_val, fill_value=np.nanmean(y_train), dtype=float)\n",
    "results = [(\"BaselineMean\", rmse(y_val, baseline_val))]\n"
   ]
  },
  {
   "cell_type": "code",
   "execution_count": 48,
   "id": "058f23e9-5d19-45d3-bbc3-0c42804382c8",
   "metadata": {},
   "outputs": [
    {
     "name": "stdout",
     "output_type": "stream",
     "text": [
      "Результаты предсказания средним: 40.24306821367537\n"
     ]
    }
   ],
   "source": [
    "print(f\"Результаты предсказания средним: {rmse(y_val, baseline_val)}\")"
   ]
  },
  {
   "cell_type": "markdown",
   "id": "e6de7abd-9ffe-4b7d-9a52-fa756a705c02",
   "metadata": {},
   "source": [
    "Посмотрим на различные корреляции между признаками и таргетом"
   ]
  },
  {
   "cell_type": "code",
   "execution_count": 47,
   "id": "820d6639-9be7-40c9-bf82-6dc692a8d11b",
   "metadata": {
    "scrolled": true
   },
   "outputs": [
    {
     "name": "stderr",
     "output_type": "stream",
     "text": [
      "C:\\Users\\mirni\\AppData\\Local\\Temp\\ipykernel_17404\\2505650305.py:10: ConstantInputWarning: An input array is constant; the correlation coefficient is not defined.\n",
      "  pear, _ = pearsonr(x, y)\n",
      "C:\\Users\\mirni\\AppData\\Local\\Temp\\ipykernel_17404\\2505650305.py:13: ConstantInputWarning: An input array is constant; the correlation coefficient is not defined.\n",
      "  spear, _ = spearmanr(x, y)\n"
     ]
    },
    {
     "name": "stdout",
     "output_type": "stream",
     "text": [
      "         pearson  spearman  kendall  mutual_info\n",
      "feature                                         \n",
      "0            NaN       NaN      NaN        0.000\n",
      "1          0.074     0.097    0.066        0.009\n",
      "2         -0.005    -0.000   -0.000        0.003\n",
      "3         -0.005     0.005    0.003        0.000\n",
      "4         -0.004    -0.008   -0.005        0.002\n",
      "5          0.028     0.027    0.018        0.001\n",
      "6          0.038     0.060    0.042        0.006\n",
      "7         -0.002     0.004    0.003        0.004\n",
      "8          0.036     0.057    0.039        0.006\n",
      "9         -0.018     0.006    0.004        0.003\n"
     ]
    }
   ],
   "source": [
    "X_corr = pd.DataFrame(Xtr_imp)\n",
    "def calc_correlations(df, y, task=\"regression\"):\n",
    "    results = []\n",
    "\n",
    "    for col in df.columns:\n",
    "       \n",
    "        x = df[col].values\n",
    "\n",
    "        # Пирсон\n",
    "        pear, _ = pearsonr(x, y)\n",
    "\n",
    "        # Спирмен\n",
    "        spear, _ = spearmanr(x, y)\n",
    "\n",
    "        # Кендалл\n",
    "        kend, _ = kendalltau(x, y)\n",
    "\n",
    "        # Взаимная информация\n",
    "        if task == \"regression\":\n",
    "            mi = mutual_info_regression(x.reshape(-1,1), y, random_state=42)[0]\n",
    "        else:\n",
    "            mi = mutual_info_classif(x.reshape(-1,1), y, random_state=42)[0]\n",
    "\n",
    "        results.append({\n",
    "            \"feature\": col,\n",
    "            \"pearson\": round(pear, 3),\n",
    "            \"spearman\": round(spear, 3),\n",
    "            \"kendall\": round(kend, 3),\n",
    "            \"mutual_info\": round(mi, 3)\n",
    "        })\n",
    "\n",
    "    return pd.DataFrame(results).set_index(\"feature\")\n",
    "\n",
    "corrs = calc_correlations(X_corr, y_train, task=\"regression\")\n",
    "print(corrs)"
   ]
  },
  {
   "cell_type": "code",
   "execution_count": 55,
   "id": "a47ce20c-6eb3-4001-80e1-1ae8ac0c8510",
   "metadata": {},
   "outputs": [],
   "source": [
    "# 3) МОДЕЛИ (без пайплайнов — мы уже подготовили матрицы)\n",
    "from sklearn.linear_model import LinearRegression, RidgeCV, LassoCV\n",
    "from sklearn.ensemble import RandomForestRegressor\n",
    "from sklearn.neighbors import KNeighborsRegressor\n",
    "from sklearn.neural_network import MLPRegressor\n",
    "from xgboost import XGBRegressor, callback\n",
    "from lightgbm import LGBMRegressor\n",
    "import lightgbm as lgb\n",
    "\n",
    "# ЛИНЕЙНЫЕ/MLP/KNN — обучаем на Xtr_sc_quant\n",
    "lin = LinearRegression()\n",
    "lin.fit(Xtr_sc_quant, y_train)\n",
    "results.append((\"LinearRegression\", rmse(y_val, lin.predict(Xval_sc))))\n",
    "\n",
    "ridge = RidgeCV(alphas=np.logspace(-3, 3, 25), cv=5)\n",
    "ridge.fit(Xtr_sc_quant, y_train)\n",
    "results.append((\"RidgeCV\", rmse(y_val, ridge.predict(Xval_sc))))\n",
    "\n",
    "lasso = LassoCV(alphas=np.logspace(-3, 1, 20), cv=5, max_iter=10000, n_jobs=-1)\n",
    "lasso.fit(Xtr_sc_quant, y_train)\n",
    "results.append((\"LassoCV\", rmse(y_val, lasso.predict(Xval_sc))))\n",
    "\n",
    "knn = KNeighborsRegressor(n_neighbors=15, weights=\"distance\")\n",
    "knn.fit(Xtr_sc_quant, y_train)\n",
    "results.append((\"KNN(k=15)\", rmse(y_val, knn.predict(Xval_sc))))\n",
    "\n",
    "mlp = MLPRegressor(hidden_layer_sizes=(128,64), activation=\"relu\",\n",
    "                   alpha=1e-4, batch_size=256, learning_rate_init=1e-3,\n",
    "                   max_iter=200, random_state=42, early_stopping=True, n_iter_no_change=10)\n",
    "mlp.fit(Xtr_sc_quant, y_train)\n",
    "results.append((\"MLP\", rmse(y_val, mlp.predict(Xval_sc))))\n",
    "\n",
    "# ДЕРЕВЬЯ/БУСТИНГИ — обучаем на Xtr_imp с ранней остановкой ОДИН РАЗ\n",
    "rf = RandomForestRegressor(\n",
    "    n_estimators=400, max_depth=None, min_samples_leaf=2,\n",
    "    max_features=\"sqrt\", n_jobs=-1, random_state=42\n",
    ")\n",
    "rf.fit(Xtr_imp, y_train)\n",
    "results.append((\"RandomForest\", rmse(y_val, rf.predict(Xval_imp))))\n"
   ]
  },
  {
   "cell_type": "code",
   "execution_count": 56,
   "id": "67b58f7d-5f21-465b-a40a-1afdfb5661fc",
   "metadata": {},
   "outputs": [
    {
     "name": "stdout",
     "output_type": "stream",
     "text": [
      "[LightGBM] [Info] Auto-choosing col-wise multi-threading, the overhead of testing was 0.001891 seconds.\n",
      "You can set `force_col_wise=true` to remove the overhead.\n",
      "[LightGBM] [Info] Total Bins 1936\n",
      "[LightGBM] [Info] Number of data points in the train set: 68177, number of used features: 9\n",
      "[LightGBM] [Info] Start training from score 29.173953\n"
     ]
    },
    {
     "name": "stderr",
     "output_type": "stream",
     "text": [
      "C:\\Users\\mirni\\miniconda3\\envs\\ds\\Lib\\site-packages\\sklearn\\utils\\validation.py:2749: UserWarning: X does not have valid feature names, but LGBMRegressor was fitted with feature names\n",
      "  warnings.warn(\n"
     ]
    },
    {
     "name": "stdout",
     "output_type": "stream",
     "text": [
      "[LightGBM] [Info] Auto-choosing col-wise multi-threading, the overhead of testing was 0.001651 seconds.\n",
      "You can set `force_col_wise=true` to remove the overhead.\n",
      "[LightGBM] [Info] Total Bins 1936\n",
      "[LightGBM] [Info] Number of data points in the train set: 68177, number of used features: 9\n",
      "[LightGBM] [Info] Start training from score 29.173953\n"
     ]
    },
    {
     "name": "stderr",
     "output_type": "stream",
     "text": [
      "C:\\Users\\mirni\\miniconda3\\envs\\ds\\Lib\\site-packages\\sklearn\\utils\\validation.py:2749: UserWarning: X does not have valid feature names, but LGBMRegressor was fitted with feature names\n",
      "  warnings.warn(\n"
     ]
    },
    {
     "name": "stdout",
     "output_type": "stream",
     "text": [
      "[LightGBM] [Info] Auto-choosing col-wise multi-threading, the overhead of testing was 0.001731 seconds.\n",
      "You can set `force_col_wise=true` to remove the overhead.\n",
      "[LightGBM] [Info] Total Bins 1936\n",
      "[LightGBM] [Info] Number of data points in the train set: 68177, number of used features: 9\n",
      "[LightGBM] [Info] Start training from score 29.173953\n"
     ]
    },
    {
     "name": "stderr",
     "output_type": "stream",
     "text": [
      "C:\\Users\\mirni\\miniconda3\\envs\\ds\\Lib\\site-packages\\sklearn\\utils\\validation.py:2749: UserWarning: X does not have valid feature names, but LGBMRegressor was fitted with feature names\n",
      "  warnings.warn(\n"
     ]
    },
    {
     "name": "stdout",
     "output_type": "stream",
     "text": [
      "[LightGBM] [Info] Auto-choosing col-wise multi-threading, the overhead of testing was 0.001801 seconds.\n",
      "You can set `force_col_wise=true` to remove the overhead.\n",
      "[LightGBM] [Info] Total Bins 1936\n",
      "[LightGBM] [Info] Number of data points in the train set: 68177, number of used features: 9\n",
      "[LightGBM] [Info] Start training from score 29.173953\n"
     ]
    },
    {
     "name": "stderr",
     "output_type": "stream",
     "text": [
      "C:\\Users\\mirni\\miniconda3\\envs\\ds\\Lib\\site-packages\\sklearn\\utils\\validation.py:2749: UserWarning: X does not have valid feature names, but LGBMRegressor was fitted with feature names\n",
      "  warnings.warn(\n"
     ]
    },
    {
     "name": "stdout",
     "output_type": "stream",
     "text": [
      "[LightGBM] [Info] Auto-choosing col-wise multi-threading, the overhead of testing was 0.001827 seconds.\n",
      "You can set `force_col_wise=true` to remove the overhead.\n",
      "[LightGBM] [Info] Total Bins 1936\n",
      "[LightGBM] [Info] Number of data points in the train set: 68177, number of used features: 9\n",
      "[LightGBM] [Info] Start training from score 29.173953\n"
     ]
    },
    {
     "name": "stderr",
     "output_type": "stream",
     "text": [
      "C:\\Users\\mirni\\miniconda3\\envs\\ds\\Lib\\site-packages\\sklearn\\utils\\validation.py:2749: UserWarning: X does not have valid feature names, but LGBMRegressor was fitted with feature names\n",
      "  warnings.warn(\n"
     ]
    },
    {
     "name": "stdout",
     "output_type": "stream",
     "text": [
      "[LightGBM] [Info] Auto-choosing col-wise multi-threading, the overhead of testing was 0.001847 seconds.\n",
      "You can set `force_col_wise=true` to remove the overhead.\n",
      "[LightGBM] [Info] Total Bins 1936\n",
      "[LightGBM] [Info] Number of data points in the train set: 68177, number of used features: 9\n",
      "[LightGBM] [Info] Start training from score 29.173953\n"
     ]
    },
    {
     "name": "stderr",
     "output_type": "stream",
     "text": [
      "C:\\Users\\mirni\\miniconda3\\envs\\ds\\Lib\\site-packages\\sklearn\\utils\\validation.py:2749: UserWarning: X does not have valid feature names, but LGBMRegressor was fitted with feature names\n",
      "  warnings.warn(\n"
     ]
    },
    {
     "name": "stdout",
     "output_type": "stream",
     "text": [
      "[LightGBM] [Info] Auto-choosing col-wise multi-threading, the overhead of testing was 0.001203 seconds.\n",
      "You can set `force_col_wise=true` to remove the overhead.\n",
      "[LightGBM] [Info] Total Bins 1936\n",
      "[LightGBM] [Info] Number of data points in the train set: 68177, number of used features: 9\n",
      "[LightGBM] [Info] Start training from score 29.173953\n"
     ]
    },
    {
     "name": "stderr",
     "output_type": "stream",
     "text": [
      "C:\\Users\\mirni\\miniconda3\\envs\\ds\\Lib\\site-packages\\sklearn\\utils\\validation.py:2749: UserWarning: X does not have valid feature names, but LGBMRegressor was fitted with feature names\n",
      "  warnings.warn(\n"
     ]
    },
    {
     "name": "stdout",
     "output_type": "stream",
     "text": [
      "[LightGBM] [Info] Auto-choosing col-wise multi-threading, the overhead of testing was 0.001417 seconds.\n",
      "You can set `force_col_wise=true` to remove the overhead.\n",
      "[LightGBM] [Info] Total Bins 1936\n",
      "[LightGBM] [Info] Number of data points in the train set: 68177, number of used features: 9\n",
      "[LightGBM] [Info] Start training from score 29.173953\n"
     ]
    },
    {
     "name": "stderr",
     "output_type": "stream",
     "text": [
      "C:\\Users\\mirni\\miniconda3\\envs\\ds\\Lib\\site-packages\\sklearn\\utils\\validation.py:2749: UserWarning: X does not have valid feature names, but LGBMRegressor was fitted with feature names\n",
      "  warnings.warn(\n"
     ]
    }
   ],
   "source": [
    "def fit_pick_best(model_ctor, param_grid, Xtr, ytr, Xval, yval, name):\n",
    "    best_model, best_rmse, best_params = None, float(\"inf\"), None\n",
    "    for params in param_grid:\n",
    "        model = model_ctor(**params)\n",
    "        model.fit(Xtr, ytr)\n",
    "        pred = model.predict(Xval)\n",
    "        score = rmse(yval, pred)\n",
    "        # print(f\"{name} {params} -> RMSE {score:.4f}\")  # при желании включи\n",
    "        if score < best_rmse:\n",
    "            best_rmse, best_model, best_params = score, model, params\n",
    "    # print(f\"BEST {name}: {best_params} -> {best_rmse:.4f}\")\n",
    "    return best_model, best_rmse\n",
    "\n",
    "# ---------- XGBoost (без ES), быстрый грубый подбор ----------\n",
    "xgb_grid = [\n",
    "    dict(\n",
    "        n_estimators=ne,\n",
    "        learning_rate=lr,\n",
    "        max_depth=md,\n",
    "        min_child_weight=3,\n",
    "        subsample=0.8,\n",
    "        colsample_bytree=0.8,\n",
    "        reg_alpha=0.0,\n",
    "        reg_lambda=1.0,\n",
    "        n_jobs=-1,\n",
    "        random_state=42,\n",
    "        tree_method=\"hist\",   # быстро\n",
    "        max_bin=256\n",
    "    )\n",
    "    for ne in (300, 600)          # маленький потолок\n",
    "    for lr in (0.07, 0.10)        # быстрее с чуть бОльшим шагом\n",
    "    for md in (4, 6)              # неглубокие деревья — быстрее/стабильнее\n",
    "]\n",
    "\n",
    "xgb_model, xgb_rmse = fit_pick_best(XGBRegressor, xgb_grid, Xtr_imp, y_train, Xval_imp, y_val, \"XGB\")\n",
    "results.append((\"XGBoost\", xgb_rmse))\n",
    "\n",
    "# ---------- LightGBM (без ES), быстрый грубый подбор ----------\n",
    "lgb_grid = [\n",
    "    dict(\n",
    "        n_estimators=ne,\n",
    "        learning_rate=lr,\n",
    "        num_leaves=nl,          # связана с max_depth≈log2(nl)\n",
    "        max_depth=-1,\n",
    "        min_child_samples=20,\n",
    "        subsample=0.8,\n",
    "        subsample_freq=1,\n",
    "        colsample_bytree=0.8,\n",
    "        reg_alpha=0.0,\n",
    "        reg_lambda=1.0,\n",
    "        random_state=42,\n",
    "        n_jobs=-1,\n",
    "        boosting_type=\"gbdt\",\n",
    "        max_bin=255,\n",
    "        # device_type=\"cpu\"  # если ставили GPU, можно явно указать cpu\n",
    "    )\n",
    "    for ne in (400, 800)\n",
    "    for lr in (0.05, 0.08)\n",
    "    for nl in (31, 63)\n",
    "]\n",
    "\n",
    "lgb_model, lgb_rmse = fit_pick_best(LGBMRegressor, lgb_grid, Xtr_imp, y_train, Xval_imp, y_val, \"LGBM\")\n",
    "results.append((\"LightGBM\", lgb_rmse))"
   ]
  },
  {
   "cell_type": "code",
   "execution_count": null,
   "id": "b84600eb-3f67-492a-94f3-f94fdbaf572f",
   "metadata": {},
   "outputs": [],
   "source": []
  }
 ],
 "metadata": {
  "kernelspec": {
   "display_name": "Python 3 (ipykernel)",
   "language": "python",
   "name": "python3"
  },
  "language_info": {
   "codemirror_mode": {
    "name": "ipython",
    "version": 3
   },
   "file_extension": ".py",
   "mimetype": "text/x-python",
   "name": "python",
   "nbconvert_exporter": "python",
   "pygments_lexer": "ipython3",
   "version": "3.11.13"
  }
 },
 "nbformat": 4,
 "nbformat_minor": 5
}
